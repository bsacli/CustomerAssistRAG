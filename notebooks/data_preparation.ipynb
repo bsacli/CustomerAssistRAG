{
 "cells": [
  {
   "cell_type": "markdown",
   "metadata": {},
   "source": [
    "## Data Preparation"
   ]
  },
  {
   "cell_type": "code",
   "execution_count": 86,
   "metadata": {},
   "outputs": [],
   "source": [
    "import pandas as pd\n",
    "import json\n",
    "\n",
    "# Read the CSV file into a DataFrame\n",
    "df = pd.read_csv(\"hf://datasets/bitext/Bitext-customer-support-llm-chatbot-training-dataset/Bitext_Sample_Customer_Support_Training_Dataset_27K_responses-v11.csv\")\n"
   ]
  },
  {
   "cell_type": "code",
   "execution_count": 87,
   "metadata": {},
   "outputs": [
    {
     "data": {
      "text/plain": [
       "category\n",
       "ACCOUNT         5986\n",
       "ORDER           3988\n",
       "REFUND          2992\n",
       "CONTACT         1999\n",
       "INVOICE         1999\n",
       "PAYMENT         1998\n",
       "FEEDBACK        1997\n",
       "DELIVERY        1994\n",
       "SHIPPING        1970\n",
       "SUBSCRIPTION     999\n",
       "CANCEL           950\n",
       "Name: count, dtype: int64"
      ]
     },
     "execution_count": 87,
     "metadata": {},
     "output_type": "execute_result"
    }
   ],
   "source": [
    "df['category'].value_counts()"
   ]
  },
  {
   "cell_type": "code",
   "execution_count": 88,
   "metadata": {},
   "outputs": [],
   "source": [
    "# Select rows where the category is \"ORDER\"\n",
    "\n",
    "# Select a random 10% of the filtered data\n",
    "df = df.sample(frac=0.10, random_state=1)  # 10% sample\n",
    "df = df[df['category'] == 'ORDER']\n",
    "\n"
   ]
  },
  {
   "cell_type": "code",
   "execution_count": 89,
   "metadata": {},
   "outputs": [
    {
     "data": {
      "text/html": [
       "<div>\n",
       "<style scoped>\n",
       "    .dataframe tbody tr th:only-of-type {\n",
       "        vertical-align: middle;\n",
       "    }\n",
       "\n",
       "    .dataframe tbody tr th {\n",
       "        vertical-align: top;\n",
       "    }\n",
       "\n",
       "    .dataframe thead th {\n",
       "        text-align: right;\n",
       "    }\n",
       "</style>\n",
       "<table border=\"1\" class=\"dataframe\">\n",
       "  <thead>\n",
       "    <tr style=\"text-align: right;\">\n",
       "      <th></th>\n",
       "      <th>flags</th>\n",
       "      <th>instruction</th>\n",
       "      <th>category</th>\n",
       "      <th>intent</th>\n",
       "      <th>response</th>\n",
       "    </tr>\n",
       "  </thead>\n",
       "  <tbody>\n",
       "    <tr>\n",
       "      <th>676</th>\n",
       "      <td>BQZ</td>\n",
       "      <td>I'm rtying to cancel order {{Order Number}}</td>\n",
       "      <td>ORDER</td>\n",
       "      <td>cancel_order</td>\n",
       "      <td>I'm following the urgency of canceling your or...</td>\n",
       "    </tr>\n",
       "    <tr>\n",
       "      <th>25873</th>\n",
       "      <td>BQZ</td>\n",
       "      <td>i need help trackng order {{Order Number}}</td>\n",
       "      <td>ORDER</td>\n",
       "      <td>track_order</td>\n",
       "      <td>We're here to help! I take note that you need ...</td>\n",
       "    </tr>\n",
       "    <tr>\n",
       "      <th>1158</th>\n",
       "      <td>BILZ</td>\n",
       "      <td>hw can I modify purchase {{Order Number}}?</td>\n",
       "      <td>ORDER</td>\n",
       "      <td>change_order</td>\n",
       "      <td>We appreciate your inquiry regarding the modif...</td>\n",
       "    </tr>\n",
       "    <tr>\n",
       "      <th>1755</th>\n",
       "      <td>BLMZ</td>\n",
       "      <td>hep changing some products of an order</td>\n",
       "      <td>ORDER</td>\n",
       "      <td>change_order</td>\n",
       "      <td>Appreciate your message to us for assistance w...</td>\n",
       "    </tr>\n",
       "    <tr>\n",
       "      <th>24908</th>\n",
       "      <td>BKL</td>\n",
       "      <td>show me estimated time of arrival of order {{O...</td>\n",
       "      <td>ORDER</td>\n",
       "      <td>track_order</td>\n",
       "      <td>Honored to assist! I'm clued in that you would...</td>\n",
       "    </tr>\n",
       "  </tbody>\n",
       "</table>\n",
       "</div>"
      ],
      "text/plain": [
       "      flags                                        instruction category  \\\n",
       "676     BQZ        I'm rtying to cancel order {{Order Number}}    ORDER   \n",
       "25873   BQZ         i need help trackng order {{Order Number}}    ORDER   \n",
       "1158   BILZ         hw can I modify purchase {{Order Number}}?    ORDER   \n",
       "1755   BLMZ             hep changing some products of an order    ORDER   \n",
       "24908   BKL  show me estimated time of arrival of order {{O...    ORDER   \n",
       "\n",
       "             intent                                           response  \n",
       "676    cancel_order  I'm following the urgency of canceling your or...  \n",
       "25873   track_order  We're here to help! I take note that you need ...  \n",
       "1158   change_order  We appreciate your inquiry regarding the modif...  \n",
       "1755   change_order  Appreciate your message to us for assistance w...  \n",
       "24908   track_order  Honored to assist! I'm clued in that you would...  "
      ]
     },
     "execution_count": 89,
     "metadata": {},
     "output_type": "execute_result"
    }
   ],
   "source": [
    "df.head()"
   ]
  },
  {
   "cell_type": "code",
   "execution_count": 90,
   "metadata": {},
   "outputs": [
    {
     "data": {
      "text/plain": [
       "(418, 5)"
      ]
     },
     "execution_count": 90,
     "metadata": {},
     "output_type": "execute_result"
    }
   ],
   "source": [
    "df.shape"
   ]
  },
  {
   "cell_type": "code",
   "execution_count": 91,
   "metadata": {},
   "outputs": [],
   "source": [
    "df.to_csv(\"../Data/data.csv\", index=False)"
   ]
  },
  {
   "cell_type": "code",
   "execution_count": 92,
   "metadata": {},
   "outputs": [
    {
     "data": {
      "text/plain": [
       "(418, 5)"
      ]
     },
     "execution_count": 92,
     "metadata": {},
     "output_type": "execute_result"
    }
   ],
   "source": [
    "df.shape"
   ]
  },
  {
   "cell_type": "code",
   "execution_count": 93,
   "metadata": {},
   "outputs": [
    {
     "name": "stdout",
     "output_type": "stream",
     "text": [
      "JSON file saved as documents.json\n"
     ]
    }
   ],
   "source": [
    "# Initialize an empty dictionary to hold the transformed data\n",
    "data = []\n",
    "\n",
    "# Group by 'category'\n",
    "for category, group_df in df.groupby('category'):\n",
    "    documents = []\n",
    "    for _, row in df.iterrows():\n",
    "        document = {\n",
    "            \"intent\": row['intent'],\n",
    "            \"question\": row['instruction'],\n",
    "            \"response\": row['response']\n",
    "        }\n",
    "        documents.append(document)\n",
    "    data.append(\n",
    "        {\n",
    "        \"category\": category,\n",
    "        \"documents\": documents\n",
    "    })\n",
    "\n",
    "# Convert the dictionary to a list of values and then to a JSON file\n",
    "with open('../Data/documents.json', 'w', encoding='utf-8') as jsonf:\n",
    "    json.dump(data, jsonf, indent=2, ensure_ascii=False)\n",
    "\n",
    "print(\"JSON file saved as documents.json\")"
   ]
  },
  {
   "cell_type": "code",
   "execution_count": 94,
   "metadata": {},
   "outputs": [],
   "source": [
    "import json\n",
    "\n",
    "with open('../Data/documents.json', 'rt') as f_in:\n",
    "    documents_raw = json.load(f_in)"
   ]
  },
  {
   "cell_type": "code",
   "execution_count": 95,
   "metadata": {},
   "outputs": [],
   "source": [
    "documents = []\n",
    "\n",
    "for category in documents_raw:\n",
    "    category_name = category['category']\n",
    "\n",
    "    for doc in category['documents']:\n",
    "        doc['category'] = category_name\n",
    "        documents.append(doc)"
   ]
  },
  {
   "cell_type": "code",
   "execution_count": 96,
   "metadata": {},
   "outputs": [],
   "source": [
    "import hashlib\n",
    "\n",
    "def generate_document_id(doc):\n",
    "    combined = f\"{doc['category']}-{doc['question']}-{doc['response'][:10]}\"\n",
    "    hash_object = hashlib.md5(combined.encode())\n",
    "    hash_hex = hash_object.hexdigest()\n",
    "    document_id = hash_hex[:8]\n",
    "    return document_id"
   ]
  },
  {
   "cell_type": "code",
   "execution_count": 97,
   "metadata": {},
   "outputs": [],
   "source": [
    "for doc in documents:\n",
    "    doc['id'] = generate_document_id(doc)"
   ]
  },
  {
   "cell_type": "code",
   "execution_count": 98,
   "metadata": {},
   "outputs": [
    {
     "data": {
      "text/plain": [
       "{'intent': 'change_order',\n",
       " 'question': 'hep changing some products of an order',\n",
       " 'response': \"Appreciate your message to us for assistance with changing the products in your order. We understand that it's important for you to have the right items. To help you with this, could you please provide the order number and specify which products you would like to change? This way, we can ensure that your order is exactly as you want it. We're here to support you throughout the process, so please feel free to ask any questions or share any additional details that may help us fulfill your request.\",\n",
       " 'category': 'ORDER',\n",
       " 'id': '85fcd90d'}"
      ]
     },
     "execution_count": 98,
     "metadata": {},
     "output_type": "execute_result"
    }
   ],
   "source": [
    "documents[3]"
   ]
  },
  {
   "cell_type": "code",
   "execution_count": 99,
   "metadata": {},
   "outputs": [
    {
     "data": {
      "text/plain": [
       "418"
      ]
     },
     "execution_count": 99,
     "metadata": {},
     "output_type": "execute_result"
    }
   ],
   "source": [
    "len(documents)"
   ]
  },
  {
   "cell_type": "code",
   "execution_count": 100,
   "metadata": {},
   "outputs": [],
   "source": [
    "with open('../Data/documents-with-ids.json', 'wt') as f_out:\n",
    "    json.dump(documents, f_out, indent=2)"
   ]
  },
  {
   "cell_type": "code",
   "execution_count": null,
   "metadata": {},
   "outputs": [],
   "source": []
  }
 ],
 "metadata": {
  "kernelspec": {
   "display_name": "Python 3",
   "language": "python",
   "name": "python3"
  },
  "language_info": {
   "codemirror_mode": {
    "name": "ipython",
    "version": 3
   },
   "file_extension": ".py",
   "mimetype": "text/x-python",
   "name": "python",
   "nbconvert_exporter": "python",
   "pygments_lexer": "ipython3",
   "version": "3.12.1"
  }
 },
 "nbformat": 4,
 "nbformat_minor": 2
}
